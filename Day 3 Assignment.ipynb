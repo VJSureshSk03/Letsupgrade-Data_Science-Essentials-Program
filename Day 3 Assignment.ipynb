{
 "cells": [
  {
   "cell_type": "markdown",
   "metadata": {},
   "source": [
    "# Questions 1:"
   ]
  },
  {
   "cell_type": "markdown",
   "metadata": {},
   "source": [
    "Create a numpy array starting from 2 till 50 with a stepsize of 3."
   ]
  },
  {
   "cell_type": "code",
   "execution_count": 1,
   "metadata": {},
   "outputs": [
    {
     "name": "stdout",
     "output_type": "stream",
     "text": [
      "[ 2  5  8 11 14 17 20 23 26 29 32 35 38 41 44 47 50]\n"
     ]
    }
   ],
   "source": [
    "import numpy as np\n",
    "\n",
    "val = np.arange(2, 51, 3)\n",
    "\n",
    "print(val)"
   ]
  },
  {
   "cell_type": "markdown",
   "metadata": {},
   "source": [
    "# Questions 2:"
   ]
  },
  {
   "cell_type": "markdown",
   "metadata": {},
   "source": [
    "Accept two lists of 5 elements each from the user.\n",
    "\n",
    "Convert them to numpy arrays. Concatenate these arrays and print it. Also sort these arrays and print it."
   ]
  },
  {
   "cell_type": "code",
   "execution_count": 2,
   "metadata": {},
   "outputs": [
    {
     "name": "stdout",
     "output_type": "stream",
     "text": [
      "[25,35,46,24,14]\n",
      "[24,56,34,23,76]\n",
      "Concatenated Arrays:  [25 35 46 24 14 24 56 34 23 76]\n",
      "Sorted Arrays:  [14 23 24 24 25 34 35 46 56 76]\n"
     ]
    }
   ],
   "source": [
    "# --importing numpy--\n",
    "\n",
    "lst1 = eval(input())\n",
    "lst2 = eval(input())\n",
    "\n",
    "val1 = np.array(lst1)\n",
    "val2 = np.array(lst2)\n",
    "\n",
    "x = np.concatenate((val1, val2))\n",
    "print(\"Concatenated Arrays: \", x)\n",
    "\n",
    "y = np.sort(x)\n",
    "print(\"Sorted Arrays: \", y)"
   ]
  },
  {
   "cell_type": "markdown",
   "metadata": {},
   "source": [
    "# Questions 3:"
   ]
  },
  {
   "cell_type": "markdown",
   "metadata": {},
   "source": [
    "Write a code snippet to find the dimensions of a ndarray and its size."
   ]
  },
  {
   "cell_type": "code",
   "execution_count": 3,
   "metadata": {},
   "outputs": [
    {
     "name": "stdout",
     "output_type": "stream",
     "text": [
      "[[0 1 2 3]\n",
      " [4 5 6 7]]\n",
      "Dimension of Array:  2\n",
      "Size of Array:  8\n"
     ]
    }
   ],
   "source": [
    "# --importing numpy--\n",
    "\n",
    "val = np.arange(8).reshape((2, 4))\n",
    "print(val)\n",
    "\n",
    "print(\"Dimension of Array: \", val.ndim)\n",
    "print(\"Size of Array: \", val.size)"
   ]
  },
  {
   "cell_type": "markdown",
   "metadata": {},
   "source": [
    "# Questions 4:"
   ]
  },
  {
   "cell_type": "markdown",
   "metadata": {},
   "source": [
    "How to convert a 1D array into a 2D array? Demonstrate with the help of a code snippet\n",
    "\n",
    "Hint: np.newaxis, np.expand_dims"
   ]
  },
  {
   "cell_type": "code",
   "execution_count": 4,
   "metadata": {},
   "outputs": [
    {
     "name": "stdout",
     "output_type": "stream",
     "text": [
      "1D Array:  (4,)\n",
      "\n",
      "1D Array Converted to 2D Array\n",
      "\n",
      "In Row Vector:  (1, 4)\n",
      "In Column Vector:  (4, 1)\n"
     ]
    }
   ],
   "source": [
    "# --importing numpy--\n",
    "\n",
    "val = np.array([34, 52, 31, 12])\n",
    "print(\"1D Array: \", val.shape)\n",
    "\n",
    "print(\"\\n1D Array Converted to 2D Array\\n\")\n",
    "val1 = np.expand_dims(val, axis=0)\n",
    "print(\"In Row Vector: \", val1.shape)\n",
    "\n",
    "val1 = np.expand_dims(val, axis=1)\n",
    "print(\"In Column Vector: \", val1.shape)"
   ]
  },
  {
   "cell_type": "markdown",
   "metadata": {},
   "source": [
    "# Questions 5:"
   ]
  },
  {
   "cell_type": "markdown",
   "metadata": {},
   "source": [
    "Consider two square numpy arrays. Stack them vertically and horizontally.\n",
    "\n",
    "Hint: Use vstack(), hstack()"
   ]
  },
  {
   "cell_type": "code",
   "execution_count": 5,
   "metadata": {},
   "outputs": [
    {
     "name": "stdout",
     "output_type": "stream",
     "text": [
      "Horizontal:\n",
      " [17 24 33 44 75 26]\n",
      "Vertical:\n",
      " [[17 24 33]\n",
      " [44 75 26]]\n"
     ]
    }
   ],
   "source": [
    "# --importing numpy--\n",
    "\n",
    "val1 = np.array([17,24,33])\n",
    "val2 = np.array([44,75,26])\n",
    "\n",
    "print('Horizontal:\\n', np.hstack((val1, val2)))\n",
    "print('Vertical:\\n', np.vstack((val1, val2)))"
   ]
  },
  {
   "cell_type": "markdown",
   "metadata": {},
   "source": [
    "# Questions 6:"
   ]
  },
  {
   "cell_type": "markdown",
   "metadata": {},
   "source": [
    "How to get unique items and counts of unique items?"
   ]
  },
  {
   "cell_type": "code",
   "execution_count": 6,
   "metadata": {},
   "outputs": [
    {
     "name": "stdout",
     "output_type": "stream",
     "text": [
      "Unique Items:  [ 1  4 24 56 57 78 88]\n",
      "Count of Unique Items:  [2 2 1 1 1 2 2]\n"
     ]
    }
   ],
   "source": [
    "# --importing numpy--\n",
    "\n",
    "val = [1,4,57,4,78,1,24,88,78,56,88]\n",
    "\n",
    "unique, count = np.unique(val, return_counts=True)\n",
    "\n",
    "print(\"Unique Items: \", unique)\n",
    "print(\"Count of Unique Items: \", count)"
   ]
  }
 ],
 "metadata": {
  "kernelspec": {
   "display_name": "Python 3",
   "language": "python",
   "name": "python3"
  },
  "language_info": {
   "codemirror_mode": {
    "name": "ipython",
    "version": 3
   },
   "file_extension": ".py",
   "mimetype": "text/x-python",
   "name": "python",
   "nbconvert_exporter": "python",
   "pygments_lexer": "ipython3",
   "version": "3.7.6"
  }
 },
 "nbformat": 4,
 "nbformat_minor": 4
}
